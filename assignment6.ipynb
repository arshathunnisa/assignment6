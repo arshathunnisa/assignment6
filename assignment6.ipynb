{
 "cells": [
  {
   "cell_type": "code",
   "execution_count": 1,
   "id": "f3d527ab",
   "metadata": {},
   "outputs": [
    {
     "name": "stdout",
     "output_type": "stream",
     "text": [
      "friend_names is sahithya\n",
      "friend_names is anju\n",
      "friend_names is samrin\n",
      "friend_names is eshwari\n",
      "friend_names is vandana\n",
      "friend_names is ramya\n",
      "friend_names is neelima\n",
      "friend_names is anitha\n",
      "friend_names is uma\n",
      "friend_names is devi\n"
     ]
    }
   ],
   "source": [
    "list=[\"sahithya\",\"anju\",\"samrin\",\"eshwari\",\"vandana\",\"ramya\",\"neelima\",\"anitha\",\"uma\",\"devi\"]\n",
    "for p in list:\n",
    "    print(\"friend_names is\",p)"
   ]
  },
  {
   "cell_type": "code",
   "execution_count": 2,
   "id": "4e86e38a",
   "metadata": {},
   "outputs": [
    {
     "name": "stdout",
     "output_type": "stream",
     "text": [
      "family_names is karimunnisa\n",
      "family_names is khajamoheddin\n",
      "family_names is amreen\n",
      "family_names is zeeshan\n",
      "family_names is ayan\n",
      "family_names is farha\n",
      "family_names is faiz\n",
      "family_names is riyaz\n",
      "family_names is rehan\n",
      "family_names is zara\n"
     ]
    }
   ],
   "source": [
    "list=[\"karimunnisa\",\"khajamoheddin\",\"amreen\",\"zeeshan\",\"ayan\",\"farha\",\"faiz\",\"riyaz\",\"rehan\",\"zara\"]\n",
    "for p in list:\n",
    "    print(\"family_names is\",p)"
   ]
  },
  {
   "cell_type": "code",
   "execution_count": 3,
   "id": "50174ce6",
   "metadata": {},
   "outputs": [
    {
     "name": "stdout",
     "output_type": "stream",
     "text": [
      "chicken\n",
      "mutton\n",
      "fish\n",
      "prance\n",
      "crabs\n",
      "chickenbiryani\n",
      "muttonbiryani\n",
      "fishcurry\n",
      "chickenfry\n",
      "prancefry\n"
     ]
    }
   ],
   "source": [
    "tup=[\"chicken\",\"mutton\",\"fish\",\"prance\",\"crabs\",\"chickenbiryani\",\"muttonbiryani\",\"fishcurry\",\"chickenfry\",\"prancefry\"]\n",
    "for food_names in tup:\n",
    "    print(food_names)"
   ]
  },
  {
   "cell_type": "code",
   "execution_count": 5,
   "id": "baeabe72",
   "metadata": {},
   "outputs": [
    {
     "name": "stdout",
     "output_type": "stream",
     "text": [
      "food_names brinjal\n",
      "food_names laddysfinger\n",
      "food_names cucumber\n",
      "food_names drumstick\n",
      "food_names tomato\n",
      "food_names potato\n",
      "food_names bitterguard\n",
      "food_names capsicum\n",
      "food_names cabbage\n",
      "food_names califlower\n"
     ]
    }
   ],
   "source": [
    "list=[\"brinjal\",\"laddysfinger\",\"cucumber\",\"drumstick\",\"tomato\",\"potato\",\"bitterguard\",\"capsicum\",\"cabbage\",\"califlower\"]\n",
    "for p in list:\n",
    "    print(\"food_names\",p)"
   ]
  },
  {
   "cell_type": "code",
   "execution_count": 6,
   "id": "bdef9a06",
   "metadata": {},
   "outputs": [
    {
     "name": "stdout",
     "output_type": "stream",
     "text": [
      "pink\n",
      "green\n",
      "black\n",
      "white\n",
      "skyblue\n",
      "yellow\n",
      "brown\n",
      "red\n",
      "violet\n"
     ]
    }
   ],
   "source": [
    "sett={\"pink\",\"black\",\"white\",\"yellow\",\"skyblue\",\"brown\",\"violet\",\"green\",\"red\"}\n",
    "for colour_names in sett:\n",
    "    print(colour_names)"
   ]
  },
  {
   "cell_type": "code",
   "execution_count": 7,
   "id": "1aaf847e",
   "metadata": {},
   "outputs": [
    {
     "name": "stdout",
     "output_type": "stream",
     "text": [
      "month_names january\n",
      "month_names febuary\n",
      "month_names march\n",
      "month_names april\n",
      "month_names may\n",
      "month_names june\n",
      "month_names juil\n",
      "month_names august\n",
      "month_names september\n",
      "month_names october\n",
      "month_names november\n",
      "month_names december\n"
     ]
    }
   ],
   "source": [
    "list=[\"january\",\"febuary\",\"march\",\"april\",\"may\",\"june\",\"juil\",\"august\",\"september\",\"october\",\"november\",\"december\"]\n",
    "for p in list:\n",
    "    print(\"month_names\",p)"
   ]
  },
  {
   "cell_type": "code",
   "execution_count": 8,
   "id": "5ebbff54",
   "metadata": {},
   "outputs": [
    {
     "name": "stdout",
     "output_type": "stream",
     "text": [
      "9\n",
      "18\n",
      "27\n",
      "36\n",
      "45\n",
      "54\n",
      "63\n",
      "72\n",
      "81\n",
      "90\n"
     ]
    }
   ],
   "source": [
    "for p in range(9,99,9):\n",
    "    print(p)"
   ]
  },
  {
   "cell_type": "code",
   "execution_count": 9,
   "id": "b448a046",
   "metadata": {},
   "outputs": [
    {
     "name": "stdout",
     "output_type": "stream",
     "text": [
      "12\n",
      "24\n",
      "36\n",
      "48\n",
      "60\n",
      "72\n",
      "84\n",
      "96\n",
      "108\n",
      "120\n"
     ]
    }
   ],
   "source": [
    "for p in range(12,132,12):\n",
    "    print(p)"
   ]
  },
  {
   "cell_type": "code",
   "execution_count": null,
   "id": "632c0757",
   "metadata": {},
   "outputs": [],
   "source": []
  }
 ],
 "metadata": {
  "kernelspec": {
   "display_name": "Python 3 (ipykernel)",
   "language": "python",
   "name": "python3"
  },
  "language_info": {
   "codemirror_mode": {
    "name": "ipython",
    "version": 3
   },
   "file_extension": ".py",
   "mimetype": "text/x-python",
   "name": "python",
   "nbconvert_exporter": "python",
   "pygments_lexer": "ipython3",
   "version": "3.10.9"
  }
 },
 "nbformat": 4,
 "nbformat_minor": 5
}
